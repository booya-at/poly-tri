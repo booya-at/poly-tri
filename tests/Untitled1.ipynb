{
 "cells": [
  {
   "cell_type": "code",
   "execution_count": 23,
   "metadata": {},
   "outputs": [],
   "source": [
    "import numpy as np\n",
    "import numba"
   ]
  },
  {
   "cell_type": "code",
   "execution_count": 29,
   "metadata": {},
   "outputs": [],
   "source": [
    "@numba.njit\n",
    "def make_key(i1, i2):\n",
    "    if i1 < i2:\n",
    "        return (i1, i2)\n",
    "    return (i2, i1)\n",
    "\n",
    "@numba.jit\n",
    "def flip_one_edge(pts, tris, edge2tris, pnt2tris, edge):\n",
    "    res = set()\n",
    "    _tris = edge2tris.get(edge, [])\n",
    "\n",
    "    iTri1, iTri2 = _tris\n",
    "    tri1 = tris[iTri1]\n",
    "    tri2 = tris[iTri2]\n",
    "\n",
    "    # find the opposite vertices, not part of the edge\n",
    "    iOpposite1 = -1\n",
    "    iOpposite2 = -1\n",
    "    for i in range(3):\n",
    "        if not tri1[i] in edge:\n",
    "            iOpposite1 = tri1[i]\n",
    "        if not tri2[i] in edge:\n",
    "            iOpposite2 = tri2[i]\n",
    "\n",
    "    newTri1 = [iOpposite1, edge[0], iOpposite2]  # triangle a\n",
    "    newTri2 = [iOpposite1, iOpposite2, edge[1]]  # triangle b\n",
    "    tris[iTri1] = newTri1\n",
    "    tris[iTri2] = newTri2\n",
    "    del edge2tris[edge]\n",
    "\n",
    "    e = make_key(iOpposite1, iOpposite2)\n",
    "    edge2tris[e] = [iTri1, iTri2]\n",
    "    pnt2tris[e[0]].update({iTri1, iTri2})\n",
    "    pnt2tris[e[1]].update({iTri1, iTri2})\n",
    "\n",
    "    e = make_key(iOpposite1, edge[1])\n",
    "    v = edge2tris[e]\n",
    "    for i in range(len(v)):\n",
    "        if v[i] == iTri1:\n",
    "            v[i] = iTri2\n",
    "    res.add(e)\n",
    "\n",
    "    e = make_key(iOpposite2, edge[0])\n",
    "    v = edge2tris[e]\n",
    "    for i in range(len(v)):\n",
    "        if v[i] == iTri2:\n",
    "            v[i] = iTri1\n",
    "    res.add(e)\n",
    "    \n",
    "    for i in newTri1:\n",
    "        if i in edge:\n",
    "            tr = list(pnt2tris[i])\n",
    "            for j in range(len(tr)):\n",
    "                if tr[j] == iTri2:\n",
    "                    tr[j] = iTri1\n",
    "            pnt2tris[i] = set(tr)\n",
    "\n",
    "    for i in newTri2:\n",
    "        if i in edge:\n",
    "            tr = list(pnt2tris[i])\n",
    "            for j in range(len(tr)):\n",
    "                if tr[j] == iTri1:\n",
    "                    tr[j] = iTri2\n",
    "            pnt2tris[i] = set(tr)\n",
    "    \n",
    "    res.add(make_key(iOpposite1, edge[0]))\n",
    "    res.add(make_key(iOpposite2, edge[1]))\n",
    "\n",
    "    return res"
   ]
  },
  {
   "cell_type": "code",
   "execution_count": 30,
   "metadata": {},
   "outputs": [
    {
     "data": {
      "text/plain": [
       "{(0, 1), (0, 2), (1, 3), (2, 3)}"
      ]
     },
     "execution_count": 30,
     "metadata": {},
     "output_type": "execute_result"
    }
   ],
   "source": [
    "pts = np.array([\n",
    "    [0.4, 0.7],\n",
    "    [0.6, 0.7],\n",
    "    [0.2, 0.5],\n",
    "    [0.8, 0.5],\n",
    "    [0. , 0. ],\n",
    "    [1. , 0. ]])\n",
    "tris = [[0, 2, 1], [1, 2, 3]]\n",
    "edge2tris = {(0, 2): [0], (1, 2): [0, 1], (0, 1): [0], (2, 3): [1], (1, 3): [1]}\n",
    "pnt2tris = {0: {0}, 2: {0, 1}, 1: {0, 1}, 3: {1}}\n",
    "edge = (1, 2)\n",
    "\n",
    "flip_one_edge(pts, tris, edge2tris, pnt2tris, edge)"
   ]
  },
  {
   "cell_type": "code",
   "execution_count": null,
   "metadata": {},
   "outputs": [],
   "source": []
  }
 ],
 "metadata": {
  "kernelspec": {
   "display_name": "Python 3",
   "language": "python",
   "name": "python3"
  },
  "language_info": {
   "codemirror_mode": {
    "name": "ipython",
    "version": 3
   },
   "file_extension": ".py",
   "mimetype": "text/x-python",
   "name": "python",
   "nbconvert_exporter": "python",
   "pygments_lexer": "ipython3",
   "version": "3.6.4"
  }
 },
 "nbformat": 4,
 "nbformat_minor": 2
}
