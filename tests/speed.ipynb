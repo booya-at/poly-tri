{
 "cells": [
  {
   "cell_type": "code",
   "execution_count": 11,
   "metadata": {},
   "outputs": [],
   "source": [
    "import numpy as np\n",
    "import copy\n",
    "from poly_tri_py import PolyTri\n",
    "from poly_tri_numba import poly_tri\n",
    "\n",
    "\n",
    "phi = np.linspace(0, 2 * np.pi, 100)[:-1]\n",
    "outer_pts = np.array([np.cos(phi), np.sin(phi)]).T\n",
    "inner_pts = copy.copy(outer_pts)\n",
    "outer_pts *= np.array([1., 1.])\n",
    "inner_pts *= 0.5\n",
    "pts = np.array(list(inner_pts) + list(outer_pts))\n",
    "boundaries = [list(range(len(inner_pts))) + [0]]"
   ]
  },
  {
   "cell_type": "code",
   "execution_count": 12,
   "metadata": {},
   "outputs": [
    {
     "name": "stdout",
     "output_type": "stream",
     "text": [
      "53.9 ms ± 264 µs per loop (mean ± std. dev. of 7 runs, 10 loops each)\n"
     ]
    }
   ],
   "source": [
    "%%timeit\n",
    "PolyTri(pts, boundaries, holes=True, delaunay=False)"
   ]
  },
  {
   "cell_type": "code",
   "execution_count": 13,
   "metadata": {},
   "outputs": [
    {
     "name": "stdout",
     "output_type": "stream",
     "text": [
      "18.4 ms ± 84.5 µs per loop (mean ± std. dev. of 7 runs, 100 loops each)\n"
     ]
    }
   ],
   "source": [
    "%%timeit\n",
    "poly_tri(pts, boundaries, holes=True, delaunay=False)"
   ]
  }
 ],
 "metadata": {
  "kernelspec": {
   "display_name": "Python 3",
   "language": "python",
   "name": "python3"
  },
  "language_info": {
   "codemirror_mode": {
    "name": "ipython",
    "version": 3
   },
   "file_extension": ".py",
   "mimetype": "text/x-python",
   "name": "python",
   "nbconvert_exporter": "python",
   "pygments_lexer": "ipython3",
   "version": "3.6.4"
  }
 },
 "nbformat": 4,
 "nbformat_minor": 2
}
